{
 "cells": [
  {
   "cell_type": "markdown",
   "id": "4e11d078",
   "metadata": {},
   "source": [
    "# **Valorización de Días de Descanso de los Accidentes de Trabajo - [Ministerio de Trabajo y Promoción del Empleo - MTPE]**"
   ]
  },
  {
   "cell_type": "code",
   "execution_count": 8,
   "id": "df2ac2f9",
   "metadata": {},
   "outputs": [],
   "source": [
    "import pandas as pd\n",
    "import numpy as np\n",
    "import matplotlib.pyplot as plt\n",
    "import seaborn as sns\n",
    "import plotly.express as px\n",
    "import datetime\n",
    "from datetime import datetime\n",
    "import warnings\n",
    "warnings.filterwarnings('ignore')"
   ]
  },
  {
   "cell_type": "code",
   "execution_count": 41,
   "id": "9e00382d",
   "metadata": {},
   "outputs": [
    {
     "data": {
      "text/html": [
       "<div>\n",
       "<style scoped>\n",
       "    .dataframe tbody tr th:only-of-type {\n",
       "        vertical-align: middle;\n",
       "    }\n",
       "\n",
       "    .dataframe tbody tr th {\n",
       "        vertical-align: top;\n",
       "    }\n",
       "\n",
       "    .dataframe thead th {\n",
       "        text-align: right;\n",
       "    }\n",
       "</style>\n",
       "<table border=\"1\" class=\"dataframe\">\n",
       "  <thead>\n",
       "    <tr style=\"text-align: right;\">\n",
       "      <th></th>\n",
       "      <th>FECHA_CORTE</th>\n",
       "      <th>PERIODO_REGISTRO</th>\n",
       "      <th>FECHA_ACCIDENTE</th>\n",
       "      <th>TIPO_ACCIDENTE</th>\n",
       "      <th>SUB_GRUPO_TIPO_ACCIDENTE</th>\n",
       "      <th>AGENTE_CAUSANTE</th>\n",
       "      <th>SUB_GRUPO_AGENTE_CAUSANTE_1</th>\n",
       "      <th>PARTE_AFECTADA</th>\n",
       "      <th>NATURALEZA_LESION</th>\n",
       "      <th>DEPARTAMENTO</th>\n",
       "      <th>...</th>\n",
       "      <th>ESTADO_CIVIL</th>\n",
       "      <th>CATEGORIA_OCUPACIONAL</th>\n",
       "      <th>TIPO_CONTRATO</th>\n",
       "      <th>GRADO_INSTRUCCION</th>\n",
       "      <th>AREA_TRABAJO</th>\n",
       "      <th>EDAD</th>\n",
       "      <th>TURNO_TRABAJO</th>\n",
       "      <th>GRAVEDAD_ACCIDENTE</th>\n",
       "      <th>DIAS_DESCANSO</th>\n",
       "      <th>MONTO_DESCANSO</th>\n",
       "    </tr>\n",
       "  </thead>\n",
       "  <tbody>\n",
       "    <tr>\n",
       "      <th>0</th>\n",
       "      <td>20230511</td>\n",
       "      <td>202304</td>\n",
       "      <td>20230419</td>\n",
       "      <td>ATRAPADA POR UN OBJETO O ENTRE OBJETOS</td>\n",
       "      <td>ATRAPADA POR UN OBJETO</td>\n",
       "      <td>OTROS APARATOS</td>\n",
       "      <td>OTROS APARATOS NO CLASIFICADOS BAJO OTROS EPÍG...</td>\n",
       "      <td>DEDOS DE LA MANO</td>\n",
       "      <td>HERIDAS CORTANTES</td>\n",
       "      <td>AREQUIPA</td>\n",
       "      <td>...</td>\n",
       "      <td>SOLTERO/A</td>\n",
       "      <td>OTROS</td>\n",
       "      <td>PLAZO FIJO</td>\n",
       "      <td>EDUCACIÓN TÉCNICA COMPLETA(2)</td>\n",
       "      <td>MANTENIMIENTO</td>\n",
       "      <td>35.0</td>\n",
       "      <td>DÍA</td>\n",
       "      <td>ACCIDENTE INCAPACITANTE</td>\n",
       "      <td>11.0</td>\n",
       "      <td>1036.38</td>\n",
       "    </tr>\n",
       "    <tr>\n",
       "      <th>1</th>\n",
       "      <td>20230511</td>\n",
       "      <td>202304</td>\n",
       "      <td>20230410</td>\n",
       "      <td>ATRAPADA POR UN OBJETO O ENTRE OBJETOS</td>\n",
       "      <td>ATRAPADA POR UN OBJETO</td>\n",
       "      <td>MEDIOS DE TRANSPORTE Y DE MANUTENCIÓN</td>\n",
       "      <td>MEDIOS DE TRANSPORTE RODANTES, A EXCEPCIÓN DE ...</td>\n",
       "      <td>MANO (CON EXCEPCIÓN DE LOS DEDOS SOLOS)</td>\n",
       "      <td>TRAUMATISMOS INTERNOS</td>\n",
       "      <td>LIMA</td>\n",
       "      <td>...</td>\n",
       "      <td>SOLTERO/A</td>\n",
       "      <td>OPERARIO</td>\n",
       "      <td>PLAZO FIJO</td>\n",
       "      <td>EDUCACIÓN SECUNDARIA COMPLETA</td>\n",
       "      <td>PRODUCCIÓN</td>\n",
       "      <td>18.0</td>\n",
       "      <td>DÍA</td>\n",
       "      <td>ACCIDENTE INCAPACITANTE</td>\n",
       "      <td>5.0</td>\n",
       "      <td>349.30</td>\n",
       "    </tr>\n",
       "    <tr>\n",
       "      <th>2</th>\n",
       "      <td>20230511</td>\n",
       "      <td>202304</td>\n",
       "      <td>20230410</td>\n",
       "      <td>OTRAS FORMAS DE ACCIDENTE NO CLASIFICADAS POR ...</td>\n",
       "      <td>NO REGISTRA SUBGRUPO DE TIPO DE ACCIDENTE</td>\n",
       "      <td>MATERIALES, SUSTANCIAS Y RADIACIONES</td>\n",
       "      <td>POLVOS, GASES, LÍQUIDOS Y PRODUCTOS QUÍMICOS, ...</td>\n",
       "      <td>ÓRGANO, APARATO O SISTEMA AFECTADO POR SUSTANC...</td>\n",
       "      <td>INTOXICACIONES</td>\n",
       "      <td>LIMA</td>\n",
       "      <td>...</td>\n",
       "      <td>SOLTERO/A</td>\n",
       "      <td>OPERARIO</td>\n",
       "      <td>INDETERMINADO</td>\n",
       "      <td>EDUCACIÓN SECUNDARIA COMPLETA</td>\n",
       "      <td>PLANTA</td>\n",
       "      <td>32.0</td>\n",
       "      <td>DÍA</td>\n",
       "      <td>ACCIDENTE INCAPACITANTE</td>\n",
       "      <td>1.0</td>\n",
       "      <td>69.86</td>\n",
       "    </tr>\n",
       "    <tr>\n",
       "      <th>3</th>\n",
       "      <td>20230511</td>\n",
       "      <td>202304</td>\n",
       "      <td>20230427</td>\n",
       "      <td>PUNZO CORTANTES</td>\n",
       "      <td>NO REGISTRA SUBGRUPO DE TIPO DE ACCIDENTE</td>\n",
       "      <td>AGENTES NO CLASIFICADOS POR FALTA DE DATOS SUF...</td>\n",
       "      <td>NO REGISTRA SUB GRUPO DE AGENTE CAUSANTE</td>\n",
       "      <td>MANO (CON EXCEPCIÓN DE LOS DEDOS SOLOS)</td>\n",
       "      <td>HERIDAS CORTANTES</td>\n",
       "      <td>AREQUIPA</td>\n",
       "      <td>...</td>\n",
       "      <td>SOLTERO/A</td>\n",
       "      <td>PEÓN</td>\n",
       "      <td>TIEMPO PARCIAL</td>\n",
       "      <td>EDUCACIÓN SECUNDARIA COMPLETA</td>\n",
       "      <td>ALBAÑILERIA</td>\n",
       "      <td>20.0</td>\n",
       "      <td>DÍA</td>\n",
       "      <td>ACCIDENTE INCAPACITANTE</td>\n",
       "      <td>5.0</td>\n",
       "      <td>349.30</td>\n",
       "    </tr>\n",
       "    <tr>\n",
       "      <th>4</th>\n",
       "      <td>20230511</td>\n",
       "      <td>202304</td>\n",
       "      <td>20230411</td>\n",
       "      <td>CAÍDAS DE OBJETOS</td>\n",
       "      <td>OTRAS CAÍDAS DE OBJETOS</td>\n",
       "      <td>AGENTES NO CLASIFICADOS POR FALTA DE DATOS SUF...</td>\n",
       "      <td>NO REGISTRA SUB GRUPO DE AGENTE CAUSANTE</td>\n",
       "      <td>HOMBRO (INCLUSIÓN DE CLAVÍCULAS, OMOPLATO Y AX...</td>\n",
       "      <td>CONTUSIONES</td>\n",
       "      <td>CALLAO</td>\n",
       "      <td>...</td>\n",
       "      <td>SOLTERO/A</td>\n",
       "      <td>EMPLEADO</td>\n",
       "      <td>INDETERMINADO</td>\n",
       "      <td>EDUCACIÓN UNIVERSITARIA INCOMPLETA(4)</td>\n",
       "      <td>ALMACÉN</td>\n",
       "      <td>36.0</td>\n",
       "      <td>DÍA</td>\n",
       "      <td>ACCIDENTE INCAPACITANTE</td>\n",
       "      <td>2.0</td>\n",
       "      <td>128.85</td>\n",
       "    </tr>\n",
       "  </tbody>\n",
       "</table>\n",
       "<p>5 rows × 27 columns</p>\n",
       "</div>"
      ],
      "text/plain": [
       "  FECHA_CORTE PERIODO_REGISTRO FECHA_ACCIDENTE  \\\n",
       "0    20230511           202304        20230419   \n",
       "1    20230511           202304        20230410   \n",
       "2    20230511           202304        20230410   \n",
       "3    20230511           202304        20230427   \n",
       "4    20230511           202304        20230411   \n",
       "\n",
       "                                      TIPO_ACCIDENTE  \\\n",
       "0             ATRAPADA POR UN OBJETO O ENTRE OBJETOS   \n",
       "1             ATRAPADA POR UN OBJETO O ENTRE OBJETOS   \n",
       "2  OTRAS FORMAS DE ACCIDENTE NO CLASIFICADAS POR ...   \n",
       "3                                    PUNZO CORTANTES   \n",
       "4                                  CAÍDAS DE OBJETOS   \n",
       "\n",
       "                    SUB_GRUPO_TIPO_ACCIDENTE  \\\n",
       "0                     ATRAPADA POR UN OBJETO   \n",
       "1                     ATRAPADA POR UN OBJETO   \n",
       "2  NO REGISTRA SUBGRUPO DE TIPO DE ACCIDENTE   \n",
       "3  NO REGISTRA SUBGRUPO DE TIPO DE ACCIDENTE   \n",
       "4                    OTRAS CAÍDAS DE OBJETOS   \n",
       "\n",
       "                                     AGENTE_CAUSANTE  \\\n",
       "0                                     OTROS APARATOS   \n",
       "1              MEDIOS DE TRANSPORTE Y DE MANUTENCIÓN   \n",
       "2               MATERIALES, SUSTANCIAS Y RADIACIONES   \n",
       "3  AGENTES NO CLASIFICADOS POR FALTA DE DATOS SUF...   \n",
       "4  AGENTES NO CLASIFICADOS POR FALTA DE DATOS SUF...   \n",
       "\n",
       "                         SUB_GRUPO_AGENTE_CAUSANTE_1  \\\n",
       "0  OTROS APARATOS NO CLASIFICADOS BAJO OTROS EPÍG...   \n",
       "1  MEDIOS DE TRANSPORTE RODANTES, A EXCEPCIÓN DE ...   \n",
       "2  POLVOS, GASES, LÍQUIDOS Y PRODUCTOS QUÍMICOS, ...   \n",
       "3           NO REGISTRA SUB GRUPO DE AGENTE CAUSANTE   \n",
       "4           NO REGISTRA SUB GRUPO DE AGENTE CAUSANTE   \n",
       "\n",
       "                                      PARTE_AFECTADA      NATURALEZA_LESION  \\\n",
       "0                                   DEDOS DE LA MANO      HERIDAS CORTANTES   \n",
       "1            MANO (CON EXCEPCIÓN DE LOS DEDOS SOLOS)  TRAUMATISMOS INTERNOS   \n",
       "2  ÓRGANO, APARATO O SISTEMA AFECTADO POR SUSTANC...         INTOXICACIONES   \n",
       "3            MANO (CON EXCEPCIÓN DE LOS DEDOS SOLOS)      HERIDAS CORTANTES   \n",
       "4  HOMBRO (INCLUSIÓN DE CLAVÍCULAS, OMOPLATO Y AX...            CONTUSIONES   \n",
       "\n",
       "  DEPARTAMENTO  ... ESTADO_CIVIL CATEGORIA_OCUPACIONAL   TIPO_CONTRATO  \\\n",
       "0     AREQUIPA  ...    SOLTERO/A                 OTROS      PLAZO FIJO   \n",
       "1         LIMA  ...    SOLTERO/A              OPERARIO      PLAZO FIJO   \n",
       "2         LIMA  ...    SOLTERO/A              OPERARIO   INDETERMINADO   \n",
       "3     AREQUIPA  ...    SOLTERO/A                  PEÓN  TIEMPO PARCIAL   \n",
       "4       CALLAO  ...    SOLTERO/A              EMPLEADO   INDETERMINADO   \n",
       "\n",
       "                       GRADO_INSTRUCCION   AREA_TRABAJO  EDAD TURNO_TRABAJO  \\\n",
       "0          EDUCACIÓN TÉCNICA COMPLETA(2)  MANTENIMIENTO  35.0           DÍA   \n",
       "1          EDUCACIÓN SECUNDARIA COMPLETA     PRODUCCIÓN  18.0           DÍA   \n",
       "2          EDUCACIÓN SECUNDARIA COMPLETA         PLANTA  32.0           DÍA   \n",
       "3          EDUCACIÓN SECUNDARIA COMPLETA    ALBAÑILERIA  20.0           DÍA   \n",
       "4  EDUCACIÓN UNIVERSITARIA INCOMPLETA(4)        ALMACÉN  36.0           DÍA   \n",
       "\n",
       "        GRAVEDAD_ACCIDENTE DIAS_DESCANSO MONTO_DESCANSO  \n",
       "0  ACCIDENTE INCAPACITANTE          11.0        1036.38  \n",
       "1  ACCIDENTE INCAPACITANTE           5.0         349.30  \n",
       "2  ACCIDENTE INCAPACITANTE           1.0          69.86  \n",
       "3  ACCIDENTE INCAPACITANTE           5.0         349.30  \n",
       "4  ACCIDENTE INCAPACITANTE           2.0         128.85  \n",
       "\n",
       "[5 rows x 27 columns]"
      ]
     },
     "execution_count": 41,
     "metadata": {},
     "output_type": "execute_result"
    }
   ],
   "source": [
    "path_local = r'C:\\Users\\Fabrizio\\Documents\\Datathon_PNDA\\Datathon-PNDA\\data'\n",
    "data = pd.read_csv(path_local + r'\\dataset_Accidentes_de_Trabajo.csv', encoding = 'latin-1',\n",
    "                  converters = {'FECHA_CORTE':str, 'PERIODO_REGISTRO':str, 'FECHA_ACCIDENTE':str,\n",
    "                               'UBIGEO':str})\n",
    "data = data.dropna()\n",
    "data.head()"
   ]
  },
  {
   "cell_type": "markdown",
   "id": "2a03300f",
   "metadata": {},
   "source": [
    "## **Entendiendo la estructura de la data y aplicando limpieza**"
   ]
  },
  {
   "cell_type": "code",
   "execution_count": 94,
   "id": "80a89e7c",
   "metadata": {},
   "outputs": [
    {
     "data": {
      "text/plain": [
       "Index(['FECHA_CORTE', 'PERIODO_REGISTRO', 'FECHA_ACCIDENTE', 'TIPO_ACCIDENTE',\n",
       "       'SUB_GRUPO_TIPO_ACCIDENTE', 'AGENTE_CAUSANTE',\n",
       "       'SUB_GRUPO_AGENTE_CAUSANTE_1', 'PARTE_AFECTADA', 'NATURALEZA_LESION',\n",
       "       'DEPARTAMENTO', 'PROVINCIA', 'DISTRITO', 'UBIGEO',\n",
       "       'ACTIVIDAD_ECONOMICA', 'SEGURO_SALUD', 'COBERTURA_PENSION',\n",
       "       'SEXO_TRABAJADOR', 'ESTADO_CIVIL', 'CATEGORIA_OCUPACIONAL',\n",
       "       'TIPO_CONTRATO', 'GRADO_INSTRUCCION', 'AREA_TRABAJO', 'EDAD',\n",
       "       'TURNO_TRABAJO', 'GRAVEDAD_ACCIDENTE', 'DIAS_DESCANSO',\n",
       "       'MONTO_DESCANSO'],\n",
       "      dtype='object')"
      ]
     },
     "execution_count": 94,
     "metadata": {},
     "output_type": "execute_result"
    }
   ],
   "source": [
    "data.columns"
   ]
  },
  {
   "cell_type": "code",
   "execution_count": 42,
   "id": "e40a4f13",
   "metadata": {},
   "outputs": [
    {
     "name": "stdout",
     "output_type": "stream",
     "text": [
      "El dataset cuenta con 30329 filas y 27 columnas.\n"
     ]
    }
   ],
   "source": [
    "print(f'El dataset cuenta con {data.shape[0]} filas y {data.shape[1]} columnas.')"
   ]
  },
  {
   "cell_type": "code",
   "execution_count": 43,
   "id": "73939f9c",
   "metadata": {},
   "outputs": [
    {
     "name": "stdout",
     "output_type": "stream",
     "text": [
      "¿El dataset cuenta con valores nulos por columna?\n"
     ]
    },
    {
     "data": {
      "text/plain": [
       "FECHA_CORTE                    0\n",
       "PERIODO_REGISTRO               0\n",
       "FECHA_ACCIDENTE                0\n",
       "TIPO_ACCIDENTE                 0\n",
       "SUB_GRUPO_TIPO_ACCIDENTE       0\n",
       "AGENTE_CAUSANTE                0\n",
       "SUB_GRUPO_AGENTE_CAUSANTE_1    0\n",
       "PARTE_AFECTADA                 0\n",
       "NATURALEZA_LESION              0\n",
       "DEPARTAMENTO                   0\n",
       "PROVINCIA                      0\n",
       "DISTRITO                       0\n",
       "UBIGEO                         0\n",
       "ACTIVIDAD_ECONOMICA            0\n",
       "SEGURO_SALUD                   0\n",
       "COBERTURA_PENSION              0\n",
       "SEXO_TRABAJADOR                0\n",
       "ESTADO_CIVIL                   0\n",
       "CATEGORIA_OCUPACIONAL          0\n",
       "TIPO_CONTRATO                  0\n",
       "GRADO_INSTRUCCION              0\n",
       "AREA_TRABAJO                   0\n",
       "EDAD                           0\n",
       "TURNO_TRABAJO                  0\n",
       "GRAVEDAD_ACCIDENTE             0\n",
       "DIAS_DESCANSO                  0\n",
       "MONTO_DESCANSO                 0\n",
       "dtype: int64"
      ]
     },
     "execution_count": 43,
     "metadata": {},
     "output_type": "execute_result"
    }
   ],
   "source": [
    "print(\"¿El dataset cuenta con valores nulos por columna?\")\n",
    "data.isnull().sum()"
   ]
  },
  {
   "cell_type": "code",
   "execution_count": 44,
   "id": "ad84acb2",
   "metadata": {},
   "outputs": [
    {
     "name": "stdout",
     "output_type": "stream",
     "text": [
      "Tipo de dato de las columnas\n"
     ]
    },
    {
     "data": {
      "text/plain": [
       "FECHA_CORTE                     object\n",
       "PERIODO_REGISTRO                object\n",
       "FECHA_ACCIDENTE                 object\n",
       "TIPO_ACCIDENTE                  object\n",
       "SUB_GRUPO_TIPO_ACCIDENTE        object\n",
       "AGENTE_CAUSANTE                 object\n",
       "SUB_GRUPO_AGENTE_CAUSANTE_1     object\n",
       "PARTE_AFECTADA                  object\n",
       "NATURALEZA_LESION               object\n",
       "DEPARTAMENTO                    object\n",
       "PROVINCIA                       object\n",
       "DISTRITO                        object\n",
       "UBIGEO                          object\n",
       "ACTIVIDAD_ECONOMICA             object\n",
       "SEGURO_SALUD                    object\n",
       "COBERTURA_PENSION               object\n",
       "SEXO_TRABAJADOR                 object\n",
       "ESTADO_CIVIL                    object\n",
       "CATEGORIA_OCUPACIONAL           object\n",
       "TIPO_CONTRATO                   object\n",
       "GRADO_INSTRUCCION               object\n",
       "AREA_TRABAJO                    object\n",
       "EDAD                           float64\n",
       "TURNO_TRABAJO                   object\n",
       "GRAVEDAD_ACCIDENTE              object\n",
       "DIAS_DESCANSO                  float64\n",
       "MONTO_DESCANSO                  object\n",
       "dtype: object"
      ]
     },
     "execution_count": 44,
     "metadata": {},
     "output_type": "execute_result"
    }
   ],
   "source": [
    "print(\"Tipo de dato de las columnas\")\n",
    "data.dtypes"
   ]
  },
  {
   "cell_type": "code",
   "execution_count": 45,
   "id": "02f39d5c",
   "metadata": {},
   "outputs": [],
   "source": [
    "data[\"MONTO_DESCANSO\"] = data[\"MONTO_DESCANSO\"].astype('float') "
   ]
  },
  {
   "cell_type": "markdown",
   "id": "e9b48cf1",
   "metadata": {},
   "source": [
    "## **Análisis Exploratorio de los Datos**"
   ]
  },
  {
   "cell_type": "code",
   "execution_count": 46,
   "id": "48974c68",
   "metadata": {},
   "outputs": [
    {
     "data": {
      "text/html": [
       "<div>\n",
       "<style scoped>\n",
       "    .dataframe tbody tr th:only-of-type {\n",
       "        vertical-align: middle;\n",
       "    }\n",
       "\n",
       "    .dataframe tbody tr th {\n",
       "        vertical-align: top;\n",
       "    }\n",
       "\n",
       "    .dataframe thead th {\n",
       "        text-align: right;\n",
       "    }\n",
       "</style>\n",
       "<table border=\"1\" class=\"dataframe\">\n",
       "  <thead>\n",
       "    <tr style=\"text-align: right;\">\n",
       "      <th></th>\n",
       "      <th>EDAD</th>\n",
       "      <th>DIAS_DESCANSO</th>\n",
       "      <th>MONTO_DESCANSO</th>\n",
       "    </tr>\n",
       "  </thead>\n",
       "  <tbody>\n",
       "    <tr>\n",
       "      <th>count</th>\n",
       "      <td>30329.000000</td>\n",
       "      <td>30329.000000</td>\n",
       "      <td>30329.000000</td>\n",
       "    </tr>\n",
       "    <tr>\n",
       "      <th>mean</th>\n",
       "      <td>35.661380</td>\n",
       "      <td>4.404959</td>\n",
       "      <td>323.323953</td>\n",
       "    </tr>\n",
       "    <tr>\n",
       "      <th>std</th>\n",
       "      <td>11.243598</td>\n",
       "      <td>22.083024</td>\n",
       "      <td>1537.749196</td>\n",
       "    </tr>\n",
       "    <tr>\n",
       "      <th>min</th>\n",
       "      <td>18.000000</td>\n",
       "      <td>0.000000</td>\n",
       "      <td>0.000000</td>\n",
       "    </tr>\n",
       "    <tr>\n",
       "      <th>25%</th>\n",
       "      <td>27.000000</td>\n",
       "      <td>2.000000</td>\n",
       "      <td>78.830000</td>\n",
       "    </tr>\n",
       "    <tr>\n",
       "      <th>50%</th>\n",
       "      <td>34.000000</td>\n",
       "      <td>3.000000</td>\n",
       "      <td>181.400000</td>\n",
       "    </tr>\n",
       "    <tr>\n",
       "      <th>75%</th>\n",
       "      <td>43.000000</td>\n",
       "      <td>5.000000</td>\n",
       "      <td>319.400000</td>\n",
       "    </tr>\n",
       "    <tr>\n",
       "      <th>max</th>\n",
       "      <td>70.000000</td>\n",
       "      <td>2828.000000</td>\n",
       "      <td>184421.420000</td>\n",
       "    </tr>\n",
       "  </tbody>\n",
       "</table>\n",
       "</div>"
      ],
      "text/plain": [
       "               EDAD  DIAS_DESCANSO  MONTO_DESCANSO\n",
       "count  30329.000000   30329.000000    30329.000000\n",
       "mean      35.661380       4.404959      323.323953\n",
       "std       11.243598      22.083024     1537.749196\n",
       "min       18.000000       0.000000        0.000000\n",
       "25%       27.000000       2.000000       78.830000\n",
       "50%       34.000000       3.000000      181.400000\n",
       "75%       43.000000       5.000000      319.400000\n",
       "max       70.000000    2828.000000   184421.420000"
      ]
     },
     "execution_count": 46,
     "metadata": {},
     "output_type": "execute_result"
    }
   ],
   "source": [
    "data.describe()"
   ]
  },
  {
   "cell_type": "markdown",
   "id": "17528e73",
   "metadata": {},
   "source": [
    "1. **Edad**: La edad promedio de los colaboradores que tuvieron un accidente de trabajo es de 36 años. Teniendo como máximo una edad de 70 y mínima de 18 años.\n",
    "\n",
    "2. **Días descanso**: En promedio, los colaboradores que tuvieron un accidente de trabajo se le asignaron 5 días de descanso.\n",
    "\n",
    "3. **Monto del descanso**: La valoración promedio asignada a los días de descanso por el accidente de trajado es de S/. 323, pero con un monto máximo alrededor de S/. 18,000."
   ]
  },
  {
   "cell_type": "code",
   "execution_count": 62,
   "id": "7686fb06",
   "metadata": {
    "scrolled": false
   },
   "outputs": [
    {
     "data": {
      "image/png": "[encoded data removed]",
      "text/plain": [
       "<Figure size 560x420 with 1 Axes>"
      ]
     },
     "metadata": {
      "needs_background": "light"
     },
     "output_type": "display_data"
    }
   ],
   "source": [
    "df1 = pd.DataFrame(data.groupby(\"PERIODO_REGISTRO\")[\"EDAD\"].count(\n",
    ")).reset_index().sort_values(\"PERIODO_REGISTRO\", ascending = True).set_index(\"PERIODO_REGISTRO\")\n",
    "fig, ax = plt.subplots(figsize = (8,6), dpi = 70)\n",
    "df1.plot(ax = ax, kind = 'bar', width=0.8)\n",
    "ax.bar_label(ax.containers[0], fontsize=11)\n",
    "for i in ['bottom', 'left']:\n",
    "    ax.spines[i].set_color('black')\n",
    "    ax.spines[i].set_linewidth(1.5) \n",
    "right_side = ax.spines[\"right\"]\n",
    "right_side.set_visible(False)\n",
    "top_side = ax.spines[\"top\"]\n",
    "top_side.set_visible(False)\n",
    "ax.set_axisbelow(True)\n",
    "ax.grid(color='gray', linewidth=1, axis='y', alpha=0.4)\n",
    "plt.xlabel(\"Conteo\")\n",
    "plt.ylabel(\"Periodo del registro\")\n",
    "plt.title(\"Cantidad de accidentes laborales por mes - MTPE\", size = 12, fontweight = 'bold')\n",
    "plt.show()"
   ]
  },
  {
   "cell_type": "code",
   "execution_count": 72,
   "id": "f89888dd",
   "metadata": {},
   "outputs": [
    {
     "name": "stdout",
     "output_type": "stream",
     "text": [
      "El crecimiento promedio mensual de la cantidad de accidentes laborales registrados por mes es de 8.62%.\n"
     ]
    }
   ],
   "source": [
    "print(f\"El crecimiento promedio mensual de la cantidad de accidentes laborales registrados por mes es de {round(df1.pct_change().dropna().mean().values[0]*100,2)}%.\")"
   ]
  },
  {
   "cell_type": "code",
   "execution_count": 86,
   "id": "2e7debc4",
   "metadata": {},
   "outputs": [
    {
     "data": {
      "image/png": "[encoded data removed]",
      "text/plain": [
       "<Figure size 840x420 with 1 Axes>"
      ]
     },
     "metadata": {
      "needs_background": "light"
     },
     "output_type": "display_data"
    }
   ],
   "source": [
    "df2 = pd.DataFrame(data.groupby(\"TIPO_ACCIDENTE\")[\"EDAD\"].count(\n",
    "    )).apply(lambda x : round(x / len(data[\"EDAD\"])*100,2)).sort_values(\"EDAD\")\n",
    "fig, ax = plt.subplots(figsize = (12,6), dpi = 70)\n",
    "df2.plot(kind = 'barh', ax = ax)\n",
    "ax.bar_label(ax.containers[0], fontsize=11)\n",
    "for i in ['bottom', 'left']:\n",
    "    ax.spines[i].set_color('black')\n",
    "    ax.spines[i].set_linewidth(1.5) \n",
    "right_side = ax.spines[\"right\"]\n",
    "right_side.set_visible(False)\n",
    "top_side = ax.spines[\"top\"]\n",
    "top_side.set_visible(False)\n",
    "ax.set_axisbelow(True)\n",
    "ax.grid(color='gray', linewidth=1, axis='y', alpha=0.4)\n",
    "plt.xlabel(\"Conteo\")\n",
    "plt.ylabel(\"Tipo de accidente\")\n",
    "plt.title(\"Cantidad de accidentes por tipo (%)\", size = 12, fontweight = 'bold')\n",
    "plt.show()"
   ]
  },
  {
   "cell_type": "code",
   "execution_count": 93,
   "id": "58ab70be",
   "metadata": {},
   "outputs": [
    {
     "data": {
      "image/png": "[encoded data removed]",
      "text/plain": [
       "<Figure size 432x288 with 1 Axes>"
      ]
     },
     "metadata": {
      "needs_background": "light"
     },
     "output_type": "display_data"
    }
   ],
   "source": [
    "df3 = pd.DataFrame(data.groupby(\"AGENTE_CAUSANTE\")[\"EDAD\"].count()).apply(lambda x : round(x / len(data[\"EDAD\"])*100,2))\n",
    "df3 = df3.sort_values(\"EDAD\")\n",
    "df3.plot(kind = 'barh', ax = ax)\n",
    "ax.bar_label(ax.containers[0], fontsize=11)\n",
    "for i in ['bottom', 'left']:\n",
    "    ax.spines[i].set_color('black')\n",
    "    ax.spines[i].set_linewidth(1.5) \n",
    "right_side = ax.spines[\"right\"]\n",
    "right_side.set_visible(False)\n",
    "top_side = ax.spines[\"top\"]\n",
    "top_side.set_visible(False)\n",
    "ax.set_axisbelow(True)\n",
    "ax.grid(color='gray', linewidth=1, axis='y', alpha=0.4)\n",
    "plt.xlabel(\"Conteo\")\n",
    "plt.ylabel(\"Tipo de accidente\")\n",
    "plt.title(\"Cantidad de accidentes por tipo (%)\", size = 12, fontweight = 'bold')\n",
    "plt.show()"
   ]
  },
  {
   "cell_type": "code",
   "execution_count": null,
   "id": "2c81b59e",
   "metadata": {},
   "outputs": [],
   "source": []
  }
 ],
 "metadata": {
  "kernelspec": {
   "display_name": "Python 3 (ipykernel)",
   "language": "python",
   "name": "python3"
  },
  "language_info": {
   "codemirror_mode": {
    "name": "ipython",
    "version": 3
   },
   "file_extension": ".py",
   "mimetype": "text/x-python",
   "name": "python",
   "nbconvert_exporter": "python",
   "pygments_lexer": "ipython3",
   "version": "3.9.7"
  }
 },
 "nbformat": 4,
 "nbformat_minor": 5
}
